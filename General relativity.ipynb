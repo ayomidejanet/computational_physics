{
 "cells": [
  {
   "cell_type": "code",
   "execution_count": 1,
   "id": "adbefe89",
   "metadata": {},
   "outputs": [],
   "source": [
    "!pip install ipywidgets --quiet"
   ]
  },
  {
   "cell_type": "code",
   "execution_count": 2,
   "id": "4b25396c",
   "metadata": {},
   "outputs": [],
   "source": [
    "import numpy as np\n",
    "import matplotlib.pyplot as plt\n",
    "import ipywidgets as widgets\n",
    "from ipywidgets import interact, IntSlider, FloatSlider, fixed"
   ]
  },
  {
   "cell_type": "code",
   "execution_count": 3,
   "id": "23b67dd9",
   "metadata": {},
   "outputs": [],
   "source": [
    "def evolve(y0:np.ndarray, t0:float, dt:float,\n",
    "           n:int, alpha:float, f:callable, method:callable, scale=None)->np.ndarray:\n",
    "    dof=len(y0)\n",
    "    t=t0\n",
    "    a = []\n",
    "    y1=y0.copy()\n",
    "    if scale is None:\n",
    "        for i in range(1,n):\n",
    "            a.append(y1)\n",
    "            y1=method(y1, t, alpha, dt, f)\n",
    "            t+=dt\n",
    "    else:\n",
    "        if len(scale) != dof+1:\n",
    "            raise Exception(f'scale vector must have dim={dof+1}')\n",
    "        t_scale=scale[0]\n",
    "        dt=dt/t_scale\n",
    "        scal = np.array(scale[1:])\n",
    "        y=y1/scal\n",
    "        for i in range(1,n):\n",
    "            a.append(y1)\n",
    "            y=method(y, t, alpha, dt, f)\n",
    "            y1=y*scal\n",
    "            t+=dt\n",
    "    return np.array(a)\n",
    "\n",
    "def euler_step(y:np.ndarray, t:float, alpha:float, dt:float, f:callable)->np.ndarray:\n",
    "    y =y + dt * f(y,t,alpha) # Note that + and * are defined operations on n\n",
    "    return y\n",
    "\n",
    "\n",
    "# Verlet step assumes that the xi stores quantities as\n",
    "# x1,v1,x2,v2 ...\n",
    "def verlet_step(y:np.ndarray, t:float, alpha:float, dt:float,\n",
    "                f:callable)->np.ndarray:\n",
    "    dof=len(y)//2\n",
    "    for i in range(dof):\n",
    "        y[2*i+1] = y[2*i+1] + dt*f(y,t,alpha)[2*i+1]\n",
    "        y[2*i] = y[2*i] + dt*f(y,t,alpha)[2*1]\n",
    "    return y\n",
    "\n",
    "# Leap-frog step assumes that xi stores quantities as \n",
    "# x1,v1,x2,v2 ...\n",
    "def leap_frog_step(y:np.ndarray, t:float, alpha:float, dt:float,\n",
    "                   f:callable)->np.ndarray:\n",
    "    dof=len(y)//2\n",
    "    for i in range(dof):\n",
    "        y[2*i+1] = y[2*i+1] + dt*f(y,t,alpha)[2*i+1]\n",
    "        y[2*i] = y[2*i] + dt*f(y,t,alpha)[2*1]\n",
    "    return y\n",
    "\n",
    "def rk4_step(y:np.ndarray, t:float, alpha:float,\n",
    "             dt:float,\n",
    "             f:callable)->np.ndarray:\n",
    "    k1 = f(y,t,alpha)\n",
    "    k2 = f(y + k1*dt/2.0, t+dt/2, alpha)\n",
    "    k3 = f(y + k2*dt/2.0, t+dt/2.0, alpha)\n",
    "    k4 = f(y + k3*dt,t+dt, alpha)\n",
    "    k = dt * (k1 + 2*k2 + 2*k3 + k4)/6.0\n",
    "    y=y+k\n",
    "    return y\n"
   ]
  },
  {
   "cell_type": "markdown",
   "id": "a7b950e4",
   "metadata": {},
   "source": [
    "$Define Scaling factors: \\\\ x=\\chi x',\\ y=\\chi y',\\ t=\\tau t',\\ \\chi = a = \\dfrac{r_p}{1-e},\\ \\tau = \\sqrt{\\dfrac{4\\pi^2\\chi^3}{G(m_1+m_2)}},\\ v_0=\\sqrt{\\dfrac{(1+e)Gm_1}{r_p}}\\ \\\\\n",
    "the\\ initial/starting\\ point\\ of\\ the\\ trajectory\\ x_o = \\left(\\dfrac{r_p}{\\chi},0,0,\\dfrac{\\nu_o\\tau}{\\chi}\\right)\\\\\n",
    "\\dfrac{d}{dt'}\\begin{bmatrix}x'\\\\ y'\\\\ v_x'\\\\ v_y'\\end{bmatrix} = \\begin{bmatrix}v_x'\\\\v_y'\\\\\\dfrac{4\\pi^2x'}{(x'^2+y'^2)^{3/2}} + \\dfrac{\\alpha x'}{(x'^2+y'^2)^2}\\\\\\dfrac{4\\pi^2y'}{(x'^2+y'^2)^{3/2}} + \\dfrac{\\alpha y'}{(x'^2+y'^2)^2}\\end{bmatrix}\\\\\n",
    "\\ \\ \\ \\ \\ \\ \\ \\ \\ \\xi \\ \\ \\ \\ \\ \\ \\ \\ \\ \\ \\ \\ \\ \\ \\ \\ \\ \\ \\ \\ \\ \\ \\ \\ \\ \\ \\ \\ \\ \\ \\ \\ \\ \\ \\ \\zeta \\\\\n",
    "\\dfrac{d\\xi}{dt'}=\\zeta $\n",
    "\n",
    "Process of Fourth Order Approximation of Derivative for Each Function\n",
    "\n",
    "1. We start with equating k1 to the slope (derivative) of the function at the beginning of the time step such that t = 0.\n",
    "2. Then, approximate the value for the function at half the time step ($t = dt/2$) using Taylor expansion with the derivative now being the estimated slope at the midpoint of k1 which is then assigned to k2. \n",
    "3. We continue with a similar method where we approximate the function at half the time step but the derivative now being the slope at the midpoint of k2 which is then assigned this value to k3.\n",
    "4. The last step is to approximate the function at the time step $t = dt$ and assign the slope estimation at the end of the time step to be k4.\n",
    "5. Finally, we approximate the function at the later time step with again the Taylor expansion about $t = 0$ but the first derivative is not the weighted sum of these slopes to get best estimate of derivative at $t = t + dt$.\n",
    "\n"
   ]
  },
  {
   "cell_type": "code",
   "execution_count": 4,
   "id": "0b0d898c",
   "metadata": {},
   "outputs": [],
   "source": [
    "def orbit(M1, m2, rp, e, N, dt, method, G_SI, G, AU, Year, alpha):\n",
    "    def zeta(xi, t=None, alpha=0.0, param=None):\n",
    "        r=(xi[0]*xi[0]+xi[1]*xi[1])**1.5\n",
    "        relative = alpha/(xi[0]**2 + xi[1]**2)**2\n",
    "        return np.array([xi[2],xi[3],\n",
    "                         -4*np.pi*np.pi*xi[0]/r + relative*xi[0],\n",
    "                         -4*np.pi*np.pi*xi[1]/r + relative*xi[1]])\n",
    "    \n",
    "    a= rp/(1-e)\n",
    "    chi=a\n",
    "    func = method\n",
    "    M=M1+m2\n",
    "    tau=np.sqrt(4*np.pi*np.pi*(a**3)/(G_SI*M)) #temporal scaling parameter (orbital period)\n",
    "    v = np.sqrt((1+e)*G_SI*M1/rp)\n",
    "    t_init=0.0\n",
    "    \n",
    "    scale=np.array([tau,chi,chi,chi/tau,chi/tau])\n",
    "    init = np.array([rp,0,0,v])\n",
    "    t=np.arange(0,N*dt,dt)\n",
    "    \n",
    "    traj = evolve(init,t_init,dt,N,alpha, \n",
    "                 zeta,func,scale)\n",
    "    complete_traj = []\n",
    "    \n",
    "    for f in traj:\n",
    "        l=[m2/M*f[0]/AU,m2/M*f[1]/AU,\n",
    "                    -M1/M*f[0]/AU,-M1/M*f[1]/AU,\n",
    "                    m2/M*f[2],m2/M*f[3],-M1/M*f[2], -M1/M*f[3]]\n",
    "        complete_traj.append(l)\n",
    "    \n",
    "    return t, complete_traj\n",
    "            "
   ]
  },
  {
   "cell_type": "code",
   "execution_count": 5,
   "id": "545cc41b",
   "metadata": {},
   "outputs": [],
   "source": [
    "def estimate_orbit(alpha, methods:list=['rk4_step']):\n",
    "    \n",
    "    G_SI=6.67E-11   # Universal gravitation m^3/Kg/s^2\n",
    "    G=1.9935E-44  #AU^3/Kg/s^2\n",
    "\n",
    "    M_sun=1.989E30 # Kg\n",
    "    AU=1.496E11  # m\n",
    "    Year=31557600  # s\n",
    "\n",
    "    M_mercury=0.33E24 # Kg\n",
    "    rp_mercury=46.0E9  # m\n",
    "    e_mercury=0.205\n",
    "#Time Step and N = # of Steps\n",
    "    dt=0.01\n",
    "    dt=dt*Year\n",
    "    N=500\n",
    "        \n",
    "    # obtaining trajectory of mercury with relativistic correction at alpha =0.2\n",
    "    t_mercury_w, traj_mercury_w = orbit(M_sun, M_mercury, rp_mercury, e_mercury, N, dt, eval(methods),\n",
    "                                      G_SI, G, AU, Year, alpha)\n",
    "    x_merc_w=[frame[2] for frame in traj_mercury_w]\n",
    "    y_merc_w=[frame[3] for frame in traj_mercury_w]\n",
    "\n",
    "\n",
    "    # obtaining trajectory of mercury without relativistic correction\n",
    "    t_mecury, traj_mercury = orbit(M_sun, M_mercury, rp_mercury, e_mercury, N, dt, eval(methods),\n",
    "                                  G_SI, G, AU, Year, alpha=0.0)\n",
    "    \n",
    "    x_merc=[frame[2] for frame in traj_mercury]\n",
    "    y_merc=[frame[3] for frame in traj_mercury]\n",
    "\n",
    "    fig, axs = plt.subplots(figsize=(8,8))\n",
    "    font = {'family': 'serif', 'color': 'black', 'weight': 'bold', 'size': 16}\n",
    "\n",
    "    cir = plt.Circle((0,0),0.015, color = 'goldenrod', label = 'Sun = Center of Mass')\n",
    "    axs.add_patch(cir)\n",
    "    axs.plot(x_merc_w, y_merc_w, 'r-', label='Corrected')\n",
    "    axs.plot(x_merc, y_merc, 'k-', label='Uncorrected')\n",
    "    axs.set_xlabel('$X_{AU}$', fontdict=font, labelpad=10)\n",
    "    axs.set_ylabel('$Y_{AU}$', fontdict=font, labelpad=10)\n",
    "\n",
    "    axs.legend(loc = 'upper right')\n",
    "    plt.show()"
   ]
  },
  {
   "cell_type": "code",
   "execution_count": 6,
   "id": "2eeee1ff",
   "metadata": {},
   "outputs": [
    {
     "data": {
      "application/vnd.jupyter.widget-view+json": {
       "model_id": "d9c37e694fb24945a99d67f9f0bc24df",
       "version_major": 2,
       "version_minor": 0
      },
      "text/plain": [
       "interactive(children=(FloatSlider(value=0.2, description='alpha', max=2.0, step=0.01), Dropdown(description='m…"
      ]
     },
     "metadata": {},
     "output_type": "display_data"
    }
   ],
   "source": [
    "interact(estimate_orbit, alpha=widgets.FloatSlider(min=-0.0, max=2.0, step=0.01, value=0.2),\n",
    "         methods=[\"rk4_step\", \"euler_step\", \"verlet_step\", \"leap_frog_step\"]);\n"
   ]
  },
  {
   "cell_type": "code",
   "execution_count": 7,
   "id": "3bd57440",
   "metadata": {
    "scrolled": true
   },
   "outputs": [
    {
     "data": {
      "application/vnd.jupyter.widget-view+json": {
       "model_id": "0372e25c81b845abb1428ea9ec55ba4c",
       "version_major": 2,
       "version_minor": 0
      },
      "text/plain": [
       "interactive(children=(FloatSlider(value=0.5, description='alpha', max=2.0, step=0.01), Dropdown(description='m…"
      ]
     },
     "metadata": {},
     "output_type": "display_data"
    }
   ],
   "source": [
    "interact(estimate_orbit, alpha=widgets.FloatSlider(min=-0.0, max=2.0, step=0.01, value=0.5),\n",
    "         methods=[\"rk4_step\", \"euler_step\", \"verlet_step\", \"leap_frog_step\"]);"
   ]
  },
  {
   "cell_type": "code",
   "execution_count": 8,
   "id": "db92f776",
   "metadata": {
    "scrolled": true
   },
   "outputs": [
    {
     "data": {
      "application/vnd.jupyter.widget-view+json": {
       "model_id": "a5c257844cb947dbab63f644ef1a7a23",
       "version_major": 2,
       "version_minor": 0
      },
      "text/plain": [
       "interactive(children=(FloatSlider(value=1.0, description='alpha', max=2.0, step=0.01), Dropdown(description='m…"
      ]
     },
     "metadata": {},
     "output_type": "display_data"
    }
   ],
   "source": [
    "interact(estimate_orbit, alpha=widgets.FloatSlider(min=-0.0, max=2.0, step=0.01, value=1.0),\n",
    "         methods=[\"rk4_step\", \"euler_step\", \"verlet_step\", \"leap_frog_step\"]);"
   ]
  },
  {
   "cell_type": "markdown",
   "id": "7b3748bd",
   "metadata": {},
   "source": [
    "### Comments\n",
    "\n",
    "Below, I provided an interactive widget for evaluating multiple combinations of alpha and integration methods. \n",
    "This will help provide a much better comparison between the three methods used.\n",
    "\n",
    "c) Based on the above plots, as $\\alpha$ increases, the precession of Mercury's orbit increases as well as the eccentricity causing the orbits to take a more elongated shape. This would also cause the aphelion (further distance in orbit from Sun) to increase. Therefore, we conclude that the relativistic correction term changes the orientation and eccentricity of a planet's orbit.\n",
    "\n",
    "d) In RK4, we approximate the function at much smaller times steps since we do higher order approximations of the slope rather than with the Euler method where we only approximate the slope at each time step. Therefore, the orbit of Mercury appears unstable because it will take many and very small time steps to reach accuracy of RK4. \n",
    "\n",
    "If we change the time step to 0.001 and increase the number of steps to 1,000, we will notice that the orbit of the planet eventually becomes unstable and starts to drift away from the Sun."
   ]
  }
 ],
 "metadata": {
  "kernelspec": {
   "display_name": "Python 3 (ipykernel)",
   "language": "python",
   "name": "python3"
  },
  "language_info": {
   "codemirror_mode": {
    "name": "ipython",
    "version": 3
   },
   "file_extension": ".py",
   "mimetype": "text/x-python",
   "name": "python",
   "nbconvert_exporter": "python",
   "pygments_lexer": "ipython3",
   "version": "3.9.12"
  }
 },
 "nbformat": 4,
 "nbformat_minor": 5
}
